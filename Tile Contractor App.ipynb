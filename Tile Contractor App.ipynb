{
 "cells": [
  {
   "cell_type": "markdown",
   "metadata": {
    "toc": true
   },
   "source": [
    "<h1>Table of Contents<span class=\"tocSkip\"></span></h1>\n",
    "<div class=\"toc\"><ul class=\"toc-item\"><li><span><a href=\"#Challenge-1:-Tile-contractor-app.\" data-toc-modified-id=\"Challenge-1:-Tile-contractor-app.-1\">Challenge 1: Tile contractor app.</a></span><ul class=\"toc-item\"><li><span><a href=\"#Level-1:\" data-toc-modified-id=\"Level-1:-1.1\">Level 1:</a></span></li><li><span><a href=\"#Level-2:\" data-toc-modified-id=\"Level-2:-1.2\">Level 2:</a></span></li></ul></li></ul></div>"
   ]
  },
  {
   "cell_type": "markdown",
   "metadata": {},
   "source": [
    "# Challenge 1: Tile contractor app.\n",
    "A tile contractor charges for his work in terms of tiles fitted per square feet, example if he charges USD 20/square feet means for 100 sq.ft the charges would be USD 2,000 You want to build a simple calculator for him so that he can quote a final amount to his customer.\n",
    "## Level 1:\n",
    "The calculator should have the following features:\n",
    "1. Should accept inputs as the length and breadth of the room to be tiled.\n",
    "2. Should give an option to offer discount in terms of percentage.\n",
    "3. Should give output as total area covered, total discount in terms of dollars, the total amount customer has to pay."
   ]
  },
  {
   "cell_type": "code",
   "execution_count": 3,
   "metadata": {
    "ExecuteTime": {
     "end_time": "2020-10-23T15:30:28.450364Z",
     "start_time": "2020-10-23T15:30:28.444380Z"
    }
   },
   "outputs": [],
   "source": [
    "# Level 1\n",
    "def tile_calculator():\n",
    "    length = float(input('Enter the length in feet of the room to be tiled: '))\n",
    "    width = float(input('Enter the width in feet of the room to be tiled: '))\n",
    "    price = float(input('Enter the price of tiles per sq.ft: '))\n",
    "    disc = float(input('Enter the discount you wish to give the customer: '))\n",
    "    \n",
    "    area = length * width\n",
    "    o_amt = price * area\n",
    "    disc_amt = (disc / 100) * o_amt\n",
    "    final_amt =  o_amt - disc_amt\n",
    "    \n",
    "    print('\\n')\n",
    "    print('Total area: %d sq.ft' % area)\n",
    "    print('Total cost: $%d' % o_amt)\n",
    "    print('Discount: $%d' % disc_amt)\n",
    "    print('Total cost with discount: %d' % final_amt)"
   ]
  },
  {
   "cell_type": "code",
   "execution_count": 4,
   "metadata": {
    "ExecuteTime": {
     "end_time": "2020-10-23T15:30:38.898122Z",
     "start_time": "2020-10-23T15:30:29.355675Z"
    },
    "scrolled": true
   },
   "outputs": [
    {
     "name": "stdout",
     "output_type": "stream",
     "text": [
      "Enter the length in feet of the room to be tiled: 10\n",
      "Enter the width in feet of the room to be tiled: 10\n",
      "Enter the price of tiles per sq.ft: 20\n",
      "Enter the discount you wish to give the customer: 10\n",
      "\n",
      "\n",
      "Total area: 100 sq.ft\n",
      "Total cost: $2000\n",
      "Discount: $200\n",
      "Total cost with discount: 1800\n"
     ]
    }
   ],
   "source": [
    "tile_calculator()"
   ]
  },
  {
   "cell_type": "markdown",
   "metadata": {},
   "source": [
    "## Level 2:\n",
    "1. Try accepting length values in different units, build a separate function to convert unit from meter to feet.\n",
    "2. Try to make the above calculator in the form of a GUI using Tkinter.\n",
    "3. Try to optimize the code. i.e. Try to use less variables and less redundancies."
   ]
  },
  {
   "cell_type": "code",
   "execution_count": 25,
   "metadata": {
    "ExecuteTime": {
     "end_time": "2020-10-28T11:41:11.614484Z",
     "start_time": "2020-10-28T11:41:11.603510Z"
    }
   },
   "outputs": [],
   "source": [
    "# Converts inputted unit of measurement to metres\n",
    "def unit_converter():\n",
    "    units = ['cm', 'm', 'in', 'ft']\n",
    "    unit = input('Enter unit of measurement %s:\\n' % units).lower()\n",
    "    width = input('\\nEnter width of area to be tiled:\\n')\n",
    "    length = input('\\nEnter length of area to be tiled:\\n')\n",
    "    \n",
    "    while unit.isdigit() or unit not in units:\n",
    "        print('\\nPlease enter an appropriate unit of measurement.' \\\n",
    "              '\\nYou have entered: \"%s\"' % unit)\n",
    "        unit = input('Enter unit of measurement (cm, m, in, ft):\\n').lower()\n",
    "        \n",
    "    while not width.isdigit() or width == '':\n",
    "        print('\\nPlease enter an appropriate width.' \\\n",
    "              '\\nYou have entered: \"%s\"' % width)\n",
    "        width = input('\\nEnter width of area to be tiled:\\n')\n",
    "    \n",
    "    while not length.isdigit() or length == '':\n",
    "        print('\\nPlease enter an appropriate length.' \\\n",
    "              '\\nYou have entered: \"%s\"' % length)\n",
    "        length = input('\\nEnter length of area to be tiled:\\n')\n",
    "            \n",
    "    if unit == 'cm':\n",
    "        width = float(width) / 100\n",
    "        length = float(length) / 100\n",
    "        area = width * length\n",
    "        \n",
    "    if unit == 'm':\n",
    "        area = width * length\n",
    "        \n",
    "    if unit == 'in':\n",
    "        width = float(width) / 39.37008\n",
    "        length = float(length) / 39.37008\n",
    "        area = width * length\n",
    "        \n",
    "    if unit == 'ft':\n",
    "        width = float(width) / 3.28084\n",
    "        length = float(length) / 3.28084\n",
    "        area = width * length\n",
    "        \n",
    "    return area"
   ]
  },
  {
   "cell_type": "code",
   "execution_count": 26,
   "metadata": {
    "ExecuteTime": {
     "end_time": "2020-10-28T11:41:20.552732Z",
     "start_time": "2020-10-28T11:41:13.028626Z"
    }
   },
   "outputs": [
    {
     "name": "stdout",
     "output_type": "stream",
     "text": [
      "Enter unit of measurement ['cm', 'm', 'in', 'ft']:\n",
      "\n",
      "\n",
      "Enter width of area to be tiled:\n",
      "\n",
      "\n",
      "Enter length of area to be tiled:\n",
      "\n",
      "\n",
      "Please enter an appropriate unit of measurement.\n",
      "You have entered: \"\"\n",
      "Enter unit of measurement (cm, m, in, ft):\n",
      "\n",
      "\n",
      "Please enter an appropriate width.\n",
      "You have entered: \"\"\n",
      "\n",
      "Enter width of area to be tiled:\n",
      "\n",
      "\n",
      "Please enter an appropriate length.\n",
      "You have entered: \"\"\n"
     ]
    },
    {
     "ename": "KeyboardInterrupt",
     "evalue": "Interrupted by user",
     "output_type": "error",
     "traceback": [
      "\u001b[1;31m---------------------------------------------------------------------------\u001b[0m",
      "\u001b[1;31mKeyboardInterrupt\u001b[0m                         Traceback (most recent call last)",
      "\u001b[1;32m<ipython-input-26-81f32a40e8d4>\u001b[0m in \u001b[0;36m<module>\u001b[1;34m\u001b[0m\n\u001b[1;32m----> 1\u001b[1;33m \u001b[0munit_converter\u001b[0m\u001b[1;33m(\u001b[0m\u001b[1;33m)\u001b[0m\u001b[1;33m\u001b[0m\u001b[1;33m\u001b[0m\u001b[0m\n\u001b[0m",
      "\u001b[1;32m<ipython-input-25-caef07c6f5f4>\u001b[0m in \u001b[0;36munit_converter\u001b[1;34m()\u001b[0m\n\u001b[0;32m     19\u001b[0m                 print('\\nPlease enter an appropriate length.' \\\n\u001b[0;32m     20\u001b[0m                       '\\nYou have entered: \"%s\"' % length)\n\u001b[1;32m---> 21\u001b[1;33m                 \u001b[0mlength\u001b[0m \u001b[1;33m=\u001b[0m \u001b[0minput\u001b[0m\u001b[1;33m(\u001b[0m\u001b[1;34m'\\nEnter length of area to be tiled:\\n'\u001b[0m\u001b[1;33m)\u001b[0m\u001b[1;33m\u001b[0m\u001b[1;33m\u001b[0m\u001b[0m\n\u001b[0m\u001b[0;32m     22\u001b[0m \u001b[1;33m\u001b[0m\u001b[0m\n\u001b[0;32m     23\u001b[0m     \u001b[1;32mif\u001b[0m \u001b[0munit\u001b[0m \u001b[1;33m==\u001b[0m \u001b[1;34m'cm'\u001b[0m\u001b[1;33m:\u001b[0m\u001b[1;33m\u001b[0m\u001b[1;33m\u001b[0m\u001b[0m\n",
      "\u001b[1;32m~\\anaconda3\\lib\\site-packages\\ipykernel\\kernelbase.py\u001b[0m in \u001b[0;36mraw_input\u001b[1;34m(self, prompt)\u001b[0m\n\u001b[0;32m    861\u001b[0m             \u001b[0mself\u001b[0m\u001b[1;33m.\u001b[0m\u001b[0m_parent_ident\u001b[0m\u001b[1;33m,\u001b[0m\u001b[1;33m\u001b[0m\u001b[1;33m\u001b[0m\u001b[0m\n\u001b[0;32m    862\u001b[0m             \u001b[0mself\u001b[0m\u001b[1;33m.\u001b[0m\u001b[0m_parent_header\u001b[0m\u001b[1;33m,\u001b[0m\u001b[1;33m\u001b[0m\u001b[1;33m\u001b[0m\u001b[0m\n\u001b[1;32m--> 863\u001b[1;33m             \u001b[0mpassword\u001b[0m\u001b[1;33m=\u001b[0m\u001b[1;32mFalse\u001b[0m\u001b[1;33m,\u001b[0m\u001b[1;33m\u001b[0m\u001b[1;33m\u001b[0m\u001b[0m\n\u001b[0m\u001b[0;32m    864\u001b[0m         )\n\u001b[0;32m    865\u001b[0m \u001b[1;33m\u001b[0m\u001b[0m\n",
      "\u001b[1;32m~\\anaconda3\\lib\\site-packages\\ipykernel\\kernelbase.py\u001b[0m in \u001b[0;36m_input_request\u001b[1;34m(self, prompt, ident, parent, password)\u001b[0m\n\u001b[0;32m    902\u001b[0m             \u001b[1;32mexcept\u001b[0m \u001b[0mKeyboardInterrupt\u001b[0m\u001b[1;33m:\u001b[0m\u001b[1;33m\u001b[0m\u001b[1;33m\u001b[0m\u001b[0m\n\u001b[0;32m    903\u001b[0m                 \u001b[1;31m# re-raise KeyboardInterrupt, to truncate traceback\u001b[0m\u001b[1;33m\u001b[0m\u001b[1;33m\u001b[0m\u001b[1;33m\u001b[0m\u001b[0m\n\u001b[1;32m--> 904\u001b[1;33m                 \u001b[1;32mraise\u001b[0m \u001b[0mKeyboardInterrupt\u001b[0m\u001b[1;33m(\u001b[0m\u001b[1;34m\"Interrupted by user\"\u001b[0m\u001b[1;33m)\u001b[0m \u001b[1;32mfrom\u001b[0m \u001b[1;32mNone\u001b[0m\u001b[1;33m\u001b[0m\u001b[1;33m\u001b[0m\u001b[0m\n\u001b[0m\u001b[0;32m    905\u001b[0m             \u001b[1;32mexcept\u001b[0m \u001b[0mException\u001b[0m \u001b[1;32mas\u001b[0m \u001b[0me\u001b[0m\u001b[1;33m:\u001b[0m\u001b[1;33m\u001b[0m\u001b[1;33m\u001b[0m\u001b[0m\n\u001b[0;32m    906\u001b[0m                 \u001b[0mself\u001b[0m\u001b[1;33m.\u001b[0m\u001b[0mlog\u001b[0m\u001b[1;33m.\u001b[0m\u001b[0mwarning\u001b[0m\u001b[1;33m(\u001b[0m\u001b[1;34m\"Invalid Message:\"\u001b[0m\u001b[1;33m,\u001b[0m \u001b[0mexc_info\u001b[0m\u001b[1;33m=\u001b[0m\u001b[1;32mTrue\u001b[0m\u001b[1;33m)\u001b[0m\u001b[1;33m\u001b[0m\u001b[1;33m\u001b[0m\u001b[0m\n",
      "\u001b[1;31mKeyboardInterrupt\u001b[0m: Interrupted by user"
     ]
    }
   ],
   "source": [
    "unit_converter()"
   ]
  },
  {
   "cell_type": "code",
   "execution_count": null,
   "metadata": {},
   "outputs": [],
   "source": []
  }
 ],
 "metadata": {
  "kernelspec": {
   "display_name": "Python [conda env:root] *",
   "language": "python",
   "name": "conda-root-py"
  },
  "language_info": {
   "codemirror_mode": {
    "name": "ipython",
    "version": 3
   },
   "file_extension": ".py",
   "mimetype": "text/x-python",
   "name": "python",
   "nbconvert_exporter": "python",
   "pygments_lexer": "ipython3",
   "version": "3.7.9"
  },
  "toc": {
   "base_numbering": 1,
   "nav_menu": {},
   "number_sections": false,
   "sideBar": true,
   "skip_h1_title": false,
   "title_cell": "Table of Contents",
   "title_sidebar": "Contents",
   "toc_cell": true,
   "toc_position": {},
   "toc_section_display": true,
   "toc_window_display": false
  }
 },
 "nbformat": 4,
 "nbformat_minor": 4
}
